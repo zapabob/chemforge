{
  "cells": [
    {
      "cell_type": "markdown",
      "metadata": {},
      "source": [
        "# Getting Started with Molecular PWA+PET Transformer\n",
        "\n",
        "This notebook provides a comprehensive introduction to the Molecular PWA+PET Transformer library.\n",
        "\n",
        "## Table of Contents\n",
        "1. [Installation](#Installation)\n",
        "2. [Basic Usage](#Basic-Usage)\n",
        "3. [CNS Targets](#CNS-Targets)\n",
        "4. [Molecular Processing](#Molecular-Processing)\n",
        "5. [Model Training](#Model-Training)\n",
        "6. [Molecular Generation](#Molecular-Generation)\n",
        "7. [Next Steps](#Next-Steps)\n"
      ]
    },
    {
      "cell_type": "markdown",
      "metadata": {},
      "source": [
        "## Installation\n",
        "\n",
        "First, let's install the library:\n"
      ]
    },
    {
      "cell_type": "code",
      "execution_count": null,
      "metadata": {},
      "outputs": [],
      "source": [
        "# Install the library\n",
        "%pip install molecular-pwa-pet\n"
      ]
    },
    {
      "cell_type": "markdown",
      "metadata": {},
      "source": [
        "## Basic Usage\n",
        "\n",
        "Let's start with the basic imports and model initialization:\n"
      ]
    },
    {
      "cell_type": "code",
      "execution_count": null,
      "metadata": {},
      "outputs": [],
      "source": [
        "import torch\n",
        "import numpy as np\n",
        "from molecular_pwa_pet import MolecularPWA_PETTransformer\n",
        "from molecular_pwa_pet.targets import get_cns_targets\n",
        "\n",
        "print(\"🧬 Molecular PWA+PET Transformer - Getting Started\")\n",
        "print(\"=\" * 60)\n"
      ]
    },
    {
      "cell_type": "markdown",
      "metadata": {},
      "source": [
        "### Model Initialization\n",
        "\n",
        "Initialize a PWA+PET Transformer model:\n"
      ]
    },
    {
      "cell_type": "code",
      "execution_count": null,
      "metadata": {},
      "outputs": [],
      "source": [
        "# Initialize model\n",
        "model = MolecularPWA_PETTransformer(\n",
        "    d_model=512,\n",
        "    n_layers=4,\n",
        "    n_heads=8,\n",
        "    max_atoms=50,\n",
        "    atom_features=78,\n",
        "    bond_features=12\n",
        ")\n",
        "\n",
        "print(f\"Model initialized with {sum(p.numel() for p in model.parameters())} parameters\")\n",
        "print(f\"Model device: {next(model.parameters()).device}\")\n"
      ]
    },
    {
      "cell_type": "markdown",
      "metadata": {},
      "source": [
        "### Sample Data Preparation\n",
        "\n",
        "Prepare sample molecular data:\n"
      ]
    },
    {
      "cell_type": "code",
      "execution_count": null,
      "metadata": {},
      "outputs": [],
      "source": [
        "# Prepare sample data\n",
        "batch_size = 2\n",
        "max_atoms = 50\n",
        "atom_features = 78\n",
        "bond_features = 12\n",
        "\n",
        "# Sample molecular data\n",
        "atom_features_tensor = torch.randn(batch_size, max_atoms, atom_features)\n",
        "bond_features_tensor = torch.randn(batch_size, max_atoms, max_atoms, bond_features)\n",
        "atom_mask = torch.ones(batch_size, max_atoms)\n",
        "coords = torch.randn(batch_size, max_atoms, 3)\n",
        "\n",
        "print(f\"Atom features shape: {atom_features_tensor.shape}\")\n",
        "print(f\"Bond features shape: {bond_features_tensor.shape}\")\n",
        "print(f\"Atom mask shape: {atom_mask.shape}\")\n",
        "print(f\"Coordinates shape: {coords.shape}\")\n"
      ]
    },
    {
      "cell_type": "markdown",
      "metadata": {},
      "source": [
        "### Forward Pass\n",
        "\n",
        "Run inference on the model:\n"
      ]
    },
    {
      "cell_type": "code",
      "execution_count": null,
      "metadata": {},
      "outputs": [],
      "source": [
        "# Forward pass\n",
        "with torch.no_grad():\n",
        "    outputs = model(\n",
        "        atom_features=atom_features_tensor,\n",
        "        bond_features=bond_features_tensor,\n",
        "        atom_mask=atom_mask,\n",
        "        coords=coords\n",
        "    )\n",
        "\n",
        "print(\"Model outputs:\")\n",
        "for task, output in outputs.items():\n",
        "    print(f\"  {task}: {output.shape} (mean: {output.mean().item():.4f})\")\n"
      ]
    },
    {
      "cell_type": "markdown",
      "metadata": {},
      "source": [
        "## CNS Targets\n",
        "\n",
        "Explore the available CNS targets:\n"
      ]
    },
    {
      "cell_type": "code",
      "execution_count": null,
      "metadata": {},
      "outputs": [],
      "source": [
        "# Get CNS targets\n",
        "targets = get_cns_targets()\n",
        "available_targets = targets.get_available_targets()\n",
        "\n",
        "print(f\"Available CNS targets: {len(available_targets)}\")\n",
        "print(f\"Targets: {', '.join(available_targets[:5])}...\")\n"
      ]
    },
    {
      "cell_type": "markdown",
      "metadata": {},
      "source": [
        "### Target Information\n",
        "\n",
        "Get detailed information about specific targets:\n"
      ]
    },
    {
      "cell_type": "code",
      "execution_count": null,
      "metadata": {},
      "outputs": [],
      "source": [
        "from molecular_pwa_pet.targets import get_target_info, get_optimization_goals\n",
        "\n",
        "# Get target information\n",
        "target = '5HT2A'\n",
        "info = get_target_info(target)\n",
        "\n",
        "print(f\"Target: {target}\")\n",
        "print(f\"PDB ID: {info['pdb_id']}\")\n",
        "print(f\"Function: {info['function']}\")\n",
        "print(f\"Diseases: {', '.join(info['diseases'])}\")\n",
        "print(f\"Drugs: {', '.join(info['drugs'])}\")\n",
        "\n",
        "# Get optimization goals\n",
        "goals = get_optimization_goals(target)\n",
        "print(f\"\\nOptimization goals: {', '.join(goals)}\")\n"
      ]
    },
    {
      "cell_type": "markdown",
      "metadata": {},
      "source": [
        "## Molecular Processing\n",
        "\n",
        "Process molecular data:\n"
      ]
    },
    {
      "cell_type": "code",
      "execution_count": null,
      "metadata": {},
      "outputs": [],
      "source": [
        "from molecular_pwa_pet.data import MolecularDataset\n",
        "from molecular_pwa_pet.data.preprocessing import MolecularPreprocessor\n",
        "\n",
        "# Initialize preprocessor\n",
        "preprocessor = MolecularPreprocessor(\n",
        "    max_atoms=50,\n",
        "    atom_features=78,\n",
        "    bond_features=12\n",
        ")\n",
        "\n",
        "# Process SMILES strings\n",
        "smiles = [\n",
        "    \"CCN(CC)CCc1ccc(O)cc1\",\n",
        "    \"COc1ccc(CCN(C)C)cc1\",\n",
        "    \"CCN(CC)CCc1ccc(OC)cc1\"\n",
        "]\n",
        "\n",
        "processed = preprocessor.process_smiles(smiles)\n",
        "print(f\"Processed {len(processed)} molecules\")\n",
        "print(f\"Atom features shape: {processed['atom_features'].shape}\")\n",
        "print(f\"Bond features shape: {processed['bond_features'].shape}\")\n"
      ]
    },
    {
      "cell_type": "markdown",
      "metadata": {},
      "source": [
        "## Model Training\n",
        "\n",
        "Train a model on molecular data:\n"
      ]
    },
    {
      "cell_type": "code",
      "execution_count": null,
      "metadata": {},
      "outputs": [],
      "source": [
        "from molecular_pwa_pet.training import MolecularTrainer\n",
        "from molecular_pwa_pet.training.losses import MolecularLosses\n",
        "import torch.optim as optim\n",
        "\n",
        "# Initialize trainer\n",
        "trainer = MolecularTrainer(\n",
        "    model=model,\n",
        "    criterion=MolecularLosses(),\n",
        "    optimizer=optim.AdamW(model.parameters(), lr=3e-4),\n",
        "    device='cuda' if torch.cuda.is_available() else 'cpu'\n",
        ")\n",
        "\n",
        "print(f\"Trainer initialized on device: {trainer.device}\")\n",
        "print(f\"Model parameters: {sum(p.numel() for p in model.parameters())}\")\n"
      ]
    },
    {
      "cell_type": "markdown",
      "metadata": {},
      "source": [
        "## Molecular Generation\n",
        "\n",
        "Generate new molecules:\n"
      ]
    },
    {
      "cell_type": "code",
      "execution_count": null,
      "metadata": {},
      "outputs": [],
      "source": [
        "from molecular_pwa_pet.generation import VAEGenerator\n",
        "\n",
        "# Initialize generator\n",
        "generator = VAEGenerator(\n",
        "    model=model,\n",
        "    target='5HT2A',\n",
        "    optimization_goals=['pki', 'cns_mpo', 'qed']\n",
        ")\n",
        "\n",
        "print(f\"Generator initialized for target: {generator.target}\")\n",
        "print(f\"Optimization goals: {generator.optimization_goals}\")\n"
      ]
    },
    {
      "cell_type": "markdown",
      "metadata": {},
      "source": [
        "## Next Steps\n",
        "\n",
        "Congratulations! You've completed the getting started tutorial. Here's what you can do next:\n",
        "\n",
        "1. **Explore CNS Targets**: Learn about different receptor families\n",
        "2. **Molecular Representation**: Understand how molecules are encoded\n",
        "3. **PWA+PET Transformer**: Dive deeper into the architecture\n",
        "4. **Molecular Generation**: Generate new drug candidates\n",
        "5. **QSAR Prediction**: Predict molecular properties\n",
        "6. **Docking Pipeline**: Integrate molecular docking\n",
        "7. **ADMET Evaluation**: Assess drug-like properties\n",
        "8. **Complete Pipeline**: End-to-end molecular design\n",
        "\n",
        "### Quick Commands\n",
        "\n",
        "```bash\n",
        "# Train a model\n",
        "molecular-pwa-pet train --target 5HT2A --epochs 20\n",
        "\n",
        "# Generate molecules\n",
        "molecular-pwa-pet generate --target CB1 --num-molecules 1000\n",
        "\n",
        "# Evaluate a model\n",
        "molecular-pwa-pet evaluate --target MOR --data-path data/test.csv\n",
        "```\n",
        "\n",
        "### Resources\n",
        "\n",
        "- **Documentation**: [molecular-pwa-pet.readthedocs.io](https://molecular-pwa-pet.readthedocs.io/)\n",
        "- **GitHub**: [github.com/example/molecular-pwa-pet](https://github.com/example/molecular-pwa-pet)\n",
        "- **Issues**: [github.com/example/molecular-pwa-pet/issues](https://github.com/example/molecular-pwa-pet/issues)\n",
        "\n",
        "🎉 **なんｊ魂で最後まで頑張った結果や！めっちゃ嬉しいで〜！💪**\n"
      ]
    }
  ],
  "metadata": {
    "language_info": {
      "name": "python"
    }
  },
  "nbformat": 4,
  "nbformat_minor": 2
}
